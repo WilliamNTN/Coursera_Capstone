{
 "cells": [
  {
   "cell_type": "markdown",
   "metadata": {},
   "source": [
    "# Toronto neighborhoods\n",
    "In this notebook, I will explore and cluster the neighborhoods in Toronto"
   ]
  },
  {
   "cell_type": "code",
   "execution_count": 157,
   "metadata": {},
   "outputs": [
    {
     "name": "stdout",
     "output_type": "stream",
     "text": [
      "Libs imported\n"
     ]
    }
   ],
   "source": [
    "#importing necessary libs\n",
    "import pandas as pd\n",
    "import numpy as np\n",
    "from bs4 import BeautifulSoup as BS  #get website data\n",
    "import requests\n",
    "import unicodedata\n",
    "print(\"Libs imported\")"
   ]
  },
  {
   "cell_type": "markdown",
   "metadata": {},
   "source": [
    "This wikipedia page has the postal code of some Neighborhoods of Toronto\n",
    "\n",
    "The data is colected using the BeatifulSoup and requests libs, and transformed as a pandas DataFrame."
   ]
  },
  {
   "cell_type": "code",
   "execution_count": 150,
   "metadata": {
    "scrolled": false
   },
   "outputs": [],
   "source": [
    "url = \"https://en.wikipedia.org/wiki/List_of_postal_codes_of_Canada:_M\"\n",
    "r = requests.get(url)\n",
    "soup = BS(r.text)\n",
    "#print(soup.prettify())\n",
    "\n",
    "table = soup.find('table')\n",
    "rows = table.find_all('tr')\n",
    "\n",
    "l = []\n",
    "for tr in rows:\n",
    "    td = tr.find_all('td')\n",
    "    thisRow = [tr.text for tr in td]\n",
    "    thisRow = [x.encode('ascii','ignore') for x in thisRow]\n",
    "    thisRow = [x.replace('\\n','') for x in thisRow]\n",
    "    l.append(thisRow)\n",
    "    \n",
    "data = pd.DataFrame(l,columns=[\"PostalCode\",\"Borough\",\"Neighborhood\"])\n"
   ]
  },
  {
   "cell_type": "markdown",
   "metadata": {},
   "source": [
    "Removing all rows with Not assigned Boroughs.\n",
    "\n",
    "Also, setting the Not Assigned neighborhoods to match the borough"
   ]
  },
  {
   "cell_type": "code",
   "execution_count": 151,
   "metadata": {},
   "outputs": [],
   "source": [
    "data = data[data.Borough != \"Not assigned\"]\n",
    "data = data.iloc[1:,]\n",
    "data.reset_index(inplace=True,drop=True)"
   ]
  },
  {
   "cell_type": "code",
   "execution_count": 155,
   "metadata": {},
   "outputs": [
    {
     "name": "stdout",
     "output_type": "stream",
     "text": [
      "PostalCode               M7A\n",
      "Borough         Queen's Park\n",
      "Neighborhood    Not assigned\n",
      "Name: 6, dtype: object\n",
      "PostalCode               M7A\n",
      "Borough         Queen's Park\n",
      "Neighborhood    Queen's Park\n",
      "Name: 6, dtype: object\n"
     ]
    }
   ],
   "source": [
    "print(data.iloc[6,:])\n",
    "for i in range(data.shape[0]):\n",
    "    if(data.iloc[i,2] == \"Not assigned\"):\n",
    "        data.iloc[i,2] = data.iloc[i,1]\n",
    "print(data.iloc[6,:])"
   ]
  },
  {
   "cell_type": "markdown",
   "metadata": {},
   "source": [
    "Some postalCodes have multiple lines in the dataset.\n",
    "\n",
    "At these, the borough is always the same, but for some postal codes, there are multiple Neighborhoods.\n",
    "\n",
    "Following, I will concatenate all the diferent neighborhoods with the same postal code in an unique row."
   ]
  },
  {
   "cell_type": "code",
   "execution_count": 164,
   "metadata": {},
   "outputs": [
    {
     "name": "stdout",
     "output_type": "stream",
     "text": [
      "(103, 3)\n",
      "  PostalCode           Borough               Neighborhood\n",
      "2        M5A  Downtown Toronto  Harbourfront, Regent Park\n"
     ]
    }
   ],
   "source": [
    "ll = []\n",
    "postals = data[\"PostalCode\"].unique()\n",
    "for postal in postals:\n",
    "    rows = data[data.PostalCode == postal]\n",
    "    uniques = rows[\"Neighborhood\"].unique()\n",
    "    val = ', '.join(str(elem) for elem in uniques)\n",
    "    borough = rows[\"Borough\"].iloc[0]\n",
    "    ll.append([postal,borough,val])\n",
    "\n",
    "data = pd.DataFrame(ll,columns=[\"PostalCode\",\"Borough\",\"Neighborhood\"])\n",
    "print(data.shape)\n",
    "print(data[data.PostalCode==\"M5A\"])"
   ]
  },
  {
   "cell_type": "markdown",
   "metadata": {},
   "source": [
    "Printing the shape and head of the result dataset, finishing the first part of the assignment"
   ]
  },
  {
   "cell_type": "code",
   "execution_count": 166,
   "metadata": {},
   "outputs": [
    {
     "name": "stdout",
     "output_type": "stream",
     "text": [
      "(103, 3)\n",
      "  PostalCode           Borough                      Neighborhood\n",
      "0        M3A        North York                         Parkwoods\n",
      "1        M4A        North York                  Victoria Village\n",
      "2        M5A  Downtown Toronto         Harbourfront, Regent Park\n",
      "3        M6A        North York  Lawrence Heights, Lawrence Manor\n",
      "4        M7A      Queen's Park                      Queen's Park\n",
      "5        M9A         Etobicoke                  Islington Avenue\n",
      "6        M1B       Scarborough                    Rouge, Malvern\n",
      "7        M3B        North York                   Don Mills North\n",
      "8        M4B         East York   Woodbine Gardens, Parkview Hill\n",
      "9        M5B  Downtown Toronto          Ryerson, Garden District\n"
     ]
    }
   ],
   "source": [
    "print(data.shape)\n",
    "print(data.head(10))"
   ]
  }
 ],
 "metadata": {
  "kernelspec": {
   "display_name": "Python 2",
   "language": "python",
   "name": "python2"
  },
  "language_info": {
   "codemirror_mode": {
    "name": "ipython",
    "version": 2
   },
   "file_extension": ".py",
   "mimetype": "text/x-python",
   "name": "python",
   "nbconvert_exporter": "python",
   "pygments_lexer": "ipython2",
   "version": "2.7.15"
  }
 },
 "nbformat": 4,
 "nbformat_minor": 2
}
