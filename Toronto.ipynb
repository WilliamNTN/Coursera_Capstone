{
 "cells": [
  {
   "cell_type": "markdown",
   "metadata": {},
   "source": [
    "# Toronto neighborhoods\n",
    "In this notebook, I will explore and cluster the neighborhoods in Toronto"
   ]
  },
  {
   "cell_type": "code",
   "execution_count": 2,
   "metadata": {},
   "outputs": [
    {
     "name": "stdout",
     "output_type": "stream",
     "text": [
      "Libs imported\n"
     ]
    }
   ],
   "source": [
    "#importing necessary libs\n",
    "import pandas as pd\n",
    "import numpy as np\n",
    "from bs4 import BeautifulSoup as BS  #get website data\n",
    "import requests\n",
    "import unicodedata\n",
    "import wget\n",
    "print(\"Libs imported\")"
   ]
  },
  {
   "cell_type": "markdown",
   "metadata": {},
   "source": [
    "This wikipedia page has the postal code of some Neighborhoods of Toronto\n",
    "\n",
    "The data is colected using the BeatifulSoup and requests libs, and transformed as a pandas DataFrame."
   ]
  },
  {
   "cell_type": "code",
   "execution_count": 3,
   "metadata": {
    "scrolled": false
   },
   "outputs": [],
   "source": [
    "url = \"https://en.wikipedia.org/wiki/List_of_postal_codes_of_Canada:_M\"\n",
    "r = requests.get(url)\n",
    "soup = BS(r.text)\n",
    "#print(soup.prettify())\n",
    "\n",
    "table = soup.find('table')\n",
    "rows = table.find_all('tr')\n",
    "\n",
    "l = []\n",
    "for tr in rows:\n",
    "    td = tr.find_all('td')\n",
    "    thisRow = [tr.text for tr in td]\n",
    "    thisRow = [x.encode('ascii','ignore') for x in thisRow]\n",
    "    thisRow = [x.replace('\\n','') for x in thisRow]\n",
    "    l.append(thisRow)\n",
    "    \n",
    "data = pd.DataFrame(l,columns=[\"PostalCode\",\"Borough\",\"Neighborhood\"])\n"
   ]
  },
  {
   "cell_type": "markdown",
   "metadata": {},
   "source": [
    "Removing all rows with Not assigned Boroughs.\n",
    "\n",
    "Also, setting the Not Assigned neighborhoods to match the borough"
   ]
  },
  {
   "cell_type": "code",
   "execution_count": 4,
   "metadata": {},
   "outputs": [],
   "source": [
    "data = data[data.Borough != \"Not assigned\"]\n",
    "data = data.iloc[1:,]\n",
    "data.reset_index(inplace=True,drop=True)"
   ]
  },
  {
   "cell_type": "code",
   "execution_count": 5,
   "metadata": {},
   "outputs": [
    {
     "name": "stdout",
     "output_type": "stream",
     "text": [
      "PostalCode               M7A\n",
      "Borough         Queen's Park\n",
      "Neighborhood    Not assigned\n",
      "Name: 6, dtype: object\n",
      "PostalCode               M7A\n",
      "Borough         Queen's Park\n",
      "Neighborhood    Queen's Park\n",
      "Name: 6, dtype: object\n"
     ]
    }
   ],
   "source": [
    "print(data.iloc[6,:])\n",
    "for i in range(data.shape[0]):\n",
    "    if(data.iloc[i,2] == \"Not assigned\"):\n",
    "        data.iloc[i,2] = data.iloc[i,1]\n",
    "print(data.iloc[6,:])"
   ]
  },
  {
   "cell_type": "markdown",
   "metadata": {},
   "source": [
    "Some postalCodes have multiple lines in the dataset.\n",
    "\n",
    "At these, the borough is always the same, but for some postal codes, there are multiple Neighborhoods.\n",
    "\n",
    "Following, I will concatenate all the diferent neighborhoods with the same postal code in an unique row."
   ]
  },
  {
   "cell_type": "code",
   "execution_count": 6,
   "metadata": {},
   "outputs": [
    {
     "name": "stdout",
     "output_type": "stream",
     "text": [
      "(103, 3)\n",
      "  PostalCode           Borough               Neighborhood\n",
      "2        M5A  Downtown Toronto  Harbourfront, Regent Park\n"
     ]
    }
   ],
   "source": [
    "ll = []\n",
    "postals = data[\"PostalCode\"].unique()\n",
    "for postal in postals:\n",
    "    rows = data[data.PostalCode == postal]\n",
    "    uniques = rows[\"Neighborhood\"].unique()\n",
    "    val = ', '.join(str(elem) for elem in uniques)\n",
    "    borough = rows[\"Borough\"].iloc[0]\n",
    "    ll.append([postal,borough,val])\n",
    "\n",
    "data = pd.DataFrame(ll,columns=[\"PostalCode\",\"Borough\",\"Neighborhood\"])\n",
    "print(data.shape)\n",
    "print(data[data.PostalCode==\"M5A\"])"
   ]
  },
  {
   "cell_type": "markdown",
   "metadata": {},
   "source": [
    "Printing the shape and head of the result dataset, finishing the first part of the assignment"
   ]
  },
  {
   "cell_type": "code",
   "execution_count": 7,
   "metadata": {},
   "outputs": [
    {
     "name": "stdout",
     "output_type": "stream",
     "text": [
      "(103, 3)\n",
      "  PostalCode           Borough                      Neighborhood\n",
      "0        M3A        North York                         Parkwoods\n",
      "1        M4A        North York                  Victoria Village\n",
      "2        M5A  Downtown Toronto         Harbourfront, Regent Park\n",
      "3        M6A        North York  Lawrence Heights, Lawrence Manor\n",
      "4        M7A      Queen's Park                      Queen's Park\n",
      "5        M9A         Etobicoke                  Islington Avenue\n",
      "6        M1B       Scarborough                    Rouge, Malvern\n",
      "7        M3B        North York                   Don Mills North\n",
      "8        M4B         East York   Woodbine Gardens, Parkview Hill\n",
      "9        M5B  Downtown Toronto          Ryerson, Garden District\n"
     ]
    }
   ],
   "source": [
    "print(data.shape)\n",
    "print(data.head(10))"
   ]
  },
  {
   "cell_type": "markdown",
   "metadata": {},
   "source": [
    "## Start second part\n",
    "\n",
    "Now, I'm going to get de latitude and longitude of each borough, which will be used to get Foursquare location."
   ]
  },
  {
   "cell_type": "code",
   "execution_count": 8,
   "metadata": {},
   "outputs": [],
   "source": [
    "import geocoder\n",
    "\n",
    "def getCoords(postalCode):\n",
    "    \n",
    "    lat_lng = None\n",
    "    \n",
    "    while(lat_lng is None):  # Fix the geocoder problem\n",
    "        g = geocoder.google('{}, Toronto, Ontario'.format(postalCode))\n",
    "        lat_lng = g.latlng\n",
    "    \n",
    "    latitude = lat_lng[0]\n",
    "    longitude = lat_lng[1]\n",
    "    return latitude,longitude"
   ]
  },
  {
   "cell_type": "markdown",
   "metadata": {},
   "source": [
    "The geocoder was not able to get the coords, so I'm going to get them from a geospatial data file"
   ]
  },
  {
   "cell_type": "code",
   "execution_count": 11,
   "metadata": {},
   "outputs": [],
   "source": [
    "fileName = wget.download(\"https://cocl.us/Geospatial_data\")"
   ]
  },
  {
   "cell_type": "code",
   "execution_count": 33,
   "metadata": {},
   "outputs": [
    {
     "name": "stdout",
     "output_type": "stream",
     "text": [
      "(103, 3)\n",
      "  Postal Code   Latitude  Longitude\n",
      "0         M1B  43.806686 -79.194353\n",
      "1         M1C  43.784535 -79.160497\n",
      "2         M1E  43.763573 -79.188711\n",
      "3         M1G  43.770992 -79.216917\n",
      "4         M1H  43.773136 -79.239476\n",
      "5         M1J  43.744734 -79.239476\n",
      "6         M1K  43.727929 -79.262029\n",
      "7         M1L  43.711112 -79.284577\n",
      "8         M1M  43.716316 -79.239476\n",
      "9         M1N  43.692657 -79.264848\n"
     ]
    }
   ],
   "source": [
    "geoData = pd.read_csv(fileName)\n",
    "print(geoData.shape)\n",
    "print(geoData.head(10))"
   ]
  },
  {
   "cell_type": "code",
   "execution_count": 39,
   "metadata": {},
   "outputs": [
    {
     "name": "stdout",
     "output_type": "stream",
     "text": [
      "  PostalCode           Borough                      Neighborhood   Latitude  \\\n",
      "0        M3A        North York                         Parkwoods  43.753259   \n",
      "1        M4A        North York                  Victoria Village  43.725882   \n",
      "2        M5A  Downtown Toronto         Harbourfront, Regent Park  43.654260   \n",
      "3        M6A        North York  Lawrence Heights, Lawrence Manor  43.718518   \n",
      "4        M7A      Queen's Park                      Queen's Park  43.662301   \n",
      "5        M9A         Etobicoke                  Islington Avenue  43.667856   \n",
      "6        M1B       Scarborough                    Rouge, Malvern  43.806686   \n",
      "7        M3B        North York                   Don Mills North  43.745906   \n",
      "8        M4B         East York   Woodbine Gardens, Parkview Hill  43.706397   \n",
      "9        M5B  Downtown Toronto          Ryerson, Garden District  43.657162   \n",
      "\n",
      "   Longitude  \n",
      "0 -79.329656  \n",
      "1 -79.315572  \n",
      "2 -79.360636  \n",
      "3 -79.464763  \n",
      "4 -79.389494  \n",
      "5 -79.532242  \n",
      "6 -79.194353  \n",
      "7 -79.352188  \n",
      "8 -79.309937  \n",
      "9 -79.378937  \n"
     ]
    }
   ],
   "source": [
    "geoData.set_index(geoData[\"Postal Code\"],inplace=True)\n",
    "lat = []\n",
    "lng = []\n",
    "for i in range(data.shape[0]):\n",
    "    postalCode = data.iloc[i,0]\n",
    "    thisLat = geoData.loc[postalCode,\"Latitude\"]\n",
    "    thisLng = geoData.loc[postalCode,\"Longitude\"]\n",
    "    lat.append(thisLat)\n",
    "    lng.append(thisLng)\n",
    "\n",
    "data[\"Latitude\"] = lat\n",
    "data[\"Longitude\"] = lng\n",
    "print(data.head(10))"
   ]
  }
 ],
 "metadata": {
  "kernelspec": {
   "display_name": "Python 2",
   "language": "python",
   "name": "python2"
  },
  "language_info": {
   "codemirror_mode": {
    "name": "ipython",
    "version": 2
   },
   "file_extension": ".py",
   "mimetype": "text/x-python",
   "name": "python",
   "nbconvert_exporter": "python",
   "pygments_lexer": "ipython2",
   "version": "2.7.15"
  }
 },
 "nbformat": 4,
 "nbformat_minor": 2
}
